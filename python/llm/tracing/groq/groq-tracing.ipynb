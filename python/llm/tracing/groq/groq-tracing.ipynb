{
  "cells": [
    {
      "cell_type": "markdown",
      "metadata": {
        "id": "view-in-github",
        "colab_type": "text"
      },
      "source": [
        "<a href=\"https://colab.research.google.com/github/conwaychriscosmo/hackathon-code-agents/blob/main/python/llm/tracing/groq/groq-tracing.ipynb\" target=\"_parent\"><img src=\"https://colab.research.google.com/assets/colab-badge.svg\" alt=\"Open In Colab\"/></a>"
      ]
    },
    {
      "cell_type": "markdown",
      "id": "43f8e85c-70c2-4de3-99b8-acdbb58d6c4a",
      "metadata": {
        "id": "43f8e85c-70c2-4de3-99b8-acdbb58d6c4a"
      },
      "source": [
        "\n",
        "<center>\n",
        "    <p style=\"text-align:center\">\n",
        "    <img alt=\"arize logo\" src=\"https://storage.googleapis.com/arize-assets/arize-logo-white.jpg\" width=\"300\"/>\n",
        "        <br>\n",
        "        <a href=\"https://docs.arize.com/arize/\">Docs</a>\n",
        "        |\n",
        "        <a href=\"https://github.com/Arize-ai/client_python\">GitHub</a>\n",
        "        |\n",
        "        <a href=\"https://arize-ai.slack.com/join/shared_invite/zt-11t1vbu4x-xkBIHmOREQnYnYDH1GDfCg\">Community</a>\n",
        "    </p>\n",
        "</center>\n",
        "\n",
        "# <center>Tracing with Groq</center>    "
      ]
    },
    {
      "cell_type": "markdown",
      "id": "94f4db8b-dc93-4cef-ac58-205d1ec21b36",
      "metadata": {
        "id": "94f4db8b-dc93-4cef-ac58-205d1ec21b36"
      },
      "source": [
        "This guide demonstrates how to use Arize for monitoring and debugging your LLM using Traces and Spans. You can read more about LLM tracing [here](https://docs.arize.com/arize/llm-large-language-models/llm-traces). In this tutorial, you will use opentelemetry and [openinference](https://github.com/Arize-ai/openinference/tree/main) to instrument our application in order to send traces to Arize.\n",
        "\n",
        "ℹ️ This notebook requires:\n",
        "- A Groq API key\n",
        "- An Arize Space & API Key\n"
      ]
    },
    {
      "cell_type": "markdown",
      "id": "899f02b0-f638-4da8-a72d-371b07a5a28c",
      "metadata": {
        "id": "899f02b0-f638-4da8-a72d-371b07a5a28c"
      },
      "source": [
        "## Step 1: Install Dependencies 📚\n",
        "Let's get the notebook setup with dependencies."
      ]
    },
    {
      "cell_type": "code",
      "execution_count": null,
      "id": "2398520d-47d5-450e-a0c6-3969ede28626",
      "metadata": {
        "id": "2398520d-47d5-450e-a0c6-3969ede28626"
      },
      "outputs": [],
      "source": [
        "# Dependencies needed to instrument your Groq application using opentelemetry and openinference\n",
        "!pip install -q arize-otel openinference-instrumentation-groq\n",
        "\n",
        "# External dependencies needed to export spans and send them to our collectors: Arize\n",
        "!pip install -q opentelemetry-sdk opentelemetry-exporter-otlp opentelemetry-instrumentation-httpx groq"
      ]
    },
    {
      "cell_type": "markdown",
      "id": "7bf0c55e-69f0-4d81-b65e-13388866b467",
      "metadata": {
        "id": "7bf0c55e-69f0-4d81-b65e-13388866b467"
      },
      "source": [
        "## Step 2: Get your API Keys"
      ]
    },
    {
      "cell_type": "markdown",
      "id": "16bce764-0d42-4e9a-a86e-bee64a30a07c",
      "metadata": {
        "id": "16bce764-0d42-4e9a-a86e-bee64a30a07c"
      },
      "source": [
        "Copy the Arize API_KEY and SPACE_ID from your Space Settings page (shown below) to the variables in the cell below.\n",
        "\n",
        "<center><img src=\"https://storage.googleapis.com/arize-assets/barcelos/Screenshot%202024-11-11%20at%209.28.27%E2%80%AFPM.png\" width=\"700\"></center>"
      ]
    },
    {
      "cell_type": "code",
      "execution_count": null,
      "id": "83f3a52e-873c-4128-a183-a9db38f51305",
      "metadata": {
        "id": "83f3a52e-873c-4128-a183-a9db38f51305"
      },
      "outputs": [],
      "source": [
        "import os\n",
        "from getpass import getpass\n",
        "API_KEY=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\n",
        "SPACE_ID=\"U3BhY2U6MjA1NTA6RXFMMA==\"\n",
        "SPACE_ID = globals().get(\"SPACE_ID\") or getpass(\n",
        "    \"🔑 Enter your Arize Space ID: \"\n",
        ")\n",
        "API_KEY = globals().get(\"API_KEY\") or getpass(\"🔑 Enter your Arize API Key: \")\n",
        "GROQ_API_KEY = globals().get(\"GROQ_API_KEY\") or getpass(\n",
        "    \"🔑 Enter your Groq API key: \"\n",
        ")\n",
        "\n",
        "os.environ[\"GROQ_API_KEY\"] = GROQ_API_KEY"
      ]
    },
    {
      "cell_type": "markdown",
      "id": "2131d82c-3e83-4b0f-9845-f879af0dd641",
      "metadata": {
        "id": "2131d82c-3e83-4b0f-9845-f879af0dd641"
      },
      "source": [
        "## Step 3. Add our tracing code\n",
        "We will be using the `arize-otel` package to register the URL and authentication parameters to send to Arize using OpenTelemetry. You can see what's under the hood by looking [here](https://docs.arize.com/arize/large-language-models/tracing/auto-instrumentation)."
      ]
    },
    {
      "cell_type": "code",
      "execution_count": null,
      "id": "d1e103c2-5b87-4ba3-9d8d-c250a748ff31",
      "metadata": {
        "id": "d1e103c2-5b87-4ba3-9d8d-c250a748ff31"
      },
      "outputs": [],
      "source": [
        "# Import open-telemetry dependencies\n",
        "from arize.otel import register\n",
        "\n",
        "# Setup OTEL via our convenience function\n",
        "tracer_provider = register(\n",
        "    space_id=SPACE_ID,  # in app space settings page\n",
        "    api_key=API_KEY,  # in app space settings page\n",
        "    project_name=\"groq-tracing-tutorial\",  # name this to whatever you would like\n",
        ")\n",
        "# Import the automatic instrumentor from OpenInference\n",
        "from openinference.instrumentation.groq import GroqInstrumentor\n",
        "\n",
        "# Finish automatic instrumentation\n",
        "GroqInstrumentor().instrument(tracer_provider=tracer_provider)"
      ]
    },
    {
      "cell_type": "markdown",
      "id": "5b4aa150-82f5-4268-b7fd-95b059b03d59",
      "metadata": {
        "id": "5b4aa150-82f5-4268-b7fd-95b059b03d59"
      },
      "source": [
        "## Step 4: Run your LLM application\n",
        "Let's test our app by asking Groq to write a haiku."
      ]
    },
    {
      "cell_type": "code",
      "execution_count": null,
      "id": "4e13d61d-3cab-4e07-a14b-357038646ad2",
      "metadata": {
        "id": "4e13d61d-3cab-4e07-a14b-357038646ad2"
      },
      "outputs": [],
      "source": [
        "from groq import Groq\n",
        "\n",
        "# Run OpenAI completion\n",
        "groq_client = Groq()\n",
        "response = groq_client.chat.completions.create(\n",
        "    model=\"mixtral-8x7b-32768\",\n",
        "    messages=[{\"role\": \"user\", \"content\": \"Write a haiku.\"}],\n",
        "    max_tokens=20,\n",
        ")\n",
        "print(response.choices[0].message.content)"
      ]
    },
    {
      "cell_type": "markdown",
      "id": "e20a4000-8267-44a1-a849-768167aa6624",
      "metadata": {
        "id": "e20a4000-8267-44a1-a849-768167aa6624"
      },
      "source": [
        "Great! Our application works!"
      ]
    },
    {
      "cell_type": "markdown",
      "id": "9c0fd7e0-9eae-431d-b23a-5fb8c03779b6",
      "metadata": {
        "id": "9c0fd7e0-9eae-431d-b23a-5fb8c03779b6"
      },
      "source": [
        "## Step 5: Log into Arize and explore your application traces 🚀\n",
        "\n",
        "Log into your Arize account, and look for the project with the same `project_name`.\n",
        "\n",
        "<img src=\"https://storage.googleapis.com/arize-assets/tutorials/images/arize-llm-tracing.png\" width=\"1500\" />"
      ]
    }
  ],
  "metadata": {
    "language_info": {
      "name": "python"
    },
    "colab": {
      "provenance": [],
      "include_colab_link": true
    }
  },
  "nbformat": 4,
  "nbformat_minor": 5
}